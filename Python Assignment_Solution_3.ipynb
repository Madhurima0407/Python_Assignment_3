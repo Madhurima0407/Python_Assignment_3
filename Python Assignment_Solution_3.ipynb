{
 "cells": [
  {
   "cell_type": "markdown",
   "metadata": {},
   "source": [
    "# Write a Python Program to implement your own myreduce() function which works exactly like Python's built-in function reduce()\n"
   ]
  },
  {
   "cell_type": "code",
   "execution_count": 3,
   "metadata": {},
   "outputs": [
    {
     "name": "stdout",
     "output_type": "stream",
     "text": [
      "15\n"
     ]
    }
   ],
   "source": [
    "#Approach 1: applying add function to the list\n",
    "def myreduce(add,ls):\n",
    "    return a\n",
    "def add(a,b):\n",
    "    a=a+b\n",
    "    return a\n",
    "ls=[1,2,3,4,5]\n",
    "a=ls[0]\n",
    "for i in range(1,len(ls)):\n",
    "        b=ls[i]\n",
    "        a=add(a,b)\n",
    "print(myreduce(add,ls))\n"
   ]
  },
  {
   "cell_type": "code",
   "execution_count": 17,
   "metadata": {},
   "outputs": [
    {
     "name": "stdout",
     "output_type": "stream",
     "text": [
      "6\n"
     ]
    }
   ],
   "source": [
    "#Approach 2: applying compare function to the list\n",
    "\n",
    "def myreduce(compare,ls):\n",
    "    return a\n",
    "def compare(a,b):\n",
    "    if(a>b):\n",
    "      return a\n",
    "    else:\n",
    "      return b  \n",
    "ls=[2,4,5,6,3,2]\n",
    "a=ls[0]\n",
    "for i in range(1,len(ls)):\n",
    "    b=ls[i]\n",
    "    a=compare(a,b)\n",
    "print(myreduce(compare,ls))   \n"
   ]
  },
  {
   "cell_type": "markdown",
   "metadata": {},
   "source": [
    "# Write a Python program to implement your own myfilter() function which works exactly like Python's built-in function filter()\n"
   ]
  },
  {
   "cell_type": "code",
   "execution_count": 19,
   "metadata": {},
   "outputs": [
    {
     "name": "stdout",
     "output_type": "stream",
     "text": [
      "[2, 4, 6]\n"
     ]
    }
   ],
   "source": [
    "#Approach 1: applying check_even function to list\n",
    "\n",
    "def myfilter(check_even,ls):\n",
    "  return check_even(ls_2)\n",
    "ls=[2,3,4,5,6] \n",
    "ls_2=[] \n",
    "def check_even(ls_2):\n",
    "  for i in ls:\n",
    "    if i%2==0:\n",
    "      ls_2.append(i)\n",
    "  print(ls_2)\n",
    "myfilter(check_even,ls)   \n",
    "\n"
   ]
  },
  {
   "cell_type": "code",
   "execution_count": 21,
   "metadata": {},
   "outputs": [
    {
     "name": "stdout",
     "output_type": "stream",
     "text": [
      "['a', 'e']\n"
     ]
    }
   ],
   "source": [
    "#Approach 2: applying check_vowel function to list of characters\n",
    "\n",
    "def myfilter(check_vowel,ls):\n",
    "  return check_vowel(ls_returned)\n",
    "ls=['a','b','c','d','e']\n",
    "ls_vowel=['a','e','i','o','u']\n",
    "ls_returned=[]\n",
    "def check_vowel(ls_returned):\n",
    "  for i in range(0,len(ls)):\n",
    "      if(ls[i] in ls_vowel):\n",
    "        ls_returned.append(ls[i])\n",
    "  print(ls_returned)\n",
    "myfilter(check_vowel,ls) \n"
   ]
  },
  {
   "cell_type": "markdown",
   "metadata": {},
   "source": [
    "# Implement List comprehensions to produce the following lists.\n",
    "Write List comprehensions to produce the following Lists\n",
    "\n",
    "List1: [‘x', 'xx', 'xxx', 'xxxx', 'y', 'yy', 'yyy', 'yyyy', 'z', 'zz', 'zzz', 'zzzz']\n",
    "List2: [‘x', 'y', 'z', 'xx', 'yy', 'zz', 'xxx', 'yyy', 'zzz', 'xxxx', 'yyyy', ‘zzzz’]\n",
    "List3: [[2], [3], [4], [3], [4], [5], [4], [5], [6]]\n",
    "List4: [(1, 1), (2, 1), (3, 1), (1, 2), (2, 2), (3, 2), (1, 3), (2, 3), (3, 3)]\n",
    "List5: [[2, 3, 4, 5], [3, 4, 5, 6],[4, 5, 6, 7], [5, 6, 7, 8]]"
   ]
  },
  {
   "cell_type": "code",
   "execution_count": 8,
   "metadata": {},
   "outputs": [
    {
     "name": "stdout",
     "output_type": "stream",
     "text": [
      "['x', 'xx', 'xxx', 'xxxx', 'y', 'yy', 'yyy', 'yyyy', 'z', 'zz', 'zzz', 'zzzz']\n",
      "['x', 'y', 'z', 'xx', 'yy', 'zz', 'xxx', 'yyy', 'zzz', 'xxxx', 'yyyy', 'zzzz']\n",
      "[[2], [3], [4], [3], [4], [5], [4], [5], [6]]\n",
      "[[2, 3, 4, 5], [3, 4, 5, 6], [4, 5, 6, 7], [5, 6, 7, 8]]\n"
     ]
    }
   ],
   "source": [
    "letters=['x', 'y', 'z']\n",
    "pattern=[]\n",
    "[pattern.append(i*j) for i in letters for j in range(1,5)]\n",
    "print(pattern)\n",
    "#-----------------------\n",
    "pattern1=[]\n",
    "[pattern1.append(i*j) for j in range(1,5) for i in letters]\n",
    "print(pattern1)\n",
    "#-----------------------\n",
    "list=[[x+y] for x in range(2,5) for y in range(0,3)]\n",
    "print(list)\n",
    "#-----------------------\n",
    "#lst1 = [x for x in range(2,10)]\n",
    "idx = 1\n",
    "#lst2 = [[x for x in range (lst1[idx+y] , lst1[idx+y+4])] for y in range (0,4)]\n",
    "lst2 = [[x for x in range (idx+y , idx+y+4)] for y in range (1,5)]\n",
    "print(lst2)\n"
   ]
  },
  {
   "cell_type": "markdown",
   "metadata": {},
   "source": [
    "\n"
   ]
  }
 ],
 "metadata": {
  "kernelspec": {
   "display_name": "Python 3",
   "language": "python",
   "name": "python3"
  },
  "language_info": {
   "codemirror_mode": {
    "name": "ipython",
    "version": 3
   },
   "file_extension": ".py",
   "mimetype": "text/x-python",
   "name": "python",
   "nbconvert_exporter": "python",
   "pygments_lexer": "ipython3",
   "version": "3.7.6"
  }
 },
 "nbformat": 4,
 "nbformat_minor": 4
}
